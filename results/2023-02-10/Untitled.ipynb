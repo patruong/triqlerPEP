{
 "cells": [
  {
   "cell_type": "code",
   "execution_count": null,
   "id": "ce990d4c",
   "metadata": {},
   "outputs": [],
   "source": [
    "import pandas as pd "
   ]
  },
  {
   "cell_type": "code",
   "execution_count": null,
   "id": "d39b2ba0",
   "metadata": {},
   "outputs": [],
   "source": [
    "pwd()"
   ]
  },
  {
   "cell_type": "code",
   "execution_count": null,
   "id": "060ef97c",
   "metadata": {},
   "outputs": [],
   "source": []
  },
  {
   "cell_type": "code",
   "execution_count": null,
   "id": "d53b2f8e",
   "metadata": {},
   "outputs": [],
   "source": []
  }
 ],
 "metadata": {
  "kernelspec": {
   "display_name": "R [conda env:snakemake]",
   "language": "R",
   "name": "conda-env-snakemake-r"
  }
 },
 "nbformat": 4,
 "nbformat_minor": 5
}
