{
 "cells": [
  {
   "cell_type": "markdown",
   "id": "35effb44",
   "metadata": {},
   "source": [
    "# Goal\n",
    "Can we replace Triqlers qvality module and \"score\" input to FDR input.\n",
    "\n",
    "1) Aggregate PSM-level PEP to Q-value\n",
    "2) Aggregate PEP-level PEP to Q-value\n",
    "3) Take PSM-level Q-value\n",
    "4) Take Peptide-level Q-value\n",
    "5) Use -log10(Q-value) as score (PSM-level)\n",
    "6) Use -log10(Q-value) as score (Peptide-level)\n",
    "\n",
    "Run triqler with 1-6 and check if results differ and explain the differing results. \n",
    "\n",
    "Make some plots and send to Lukas.\n",
    "\n"
   ]
  },
  {
   "cell_type": "code",
   "execution_count": null,
   "id": "a71eddb5",
   "metadata": {},
   "outputs": [],
   "source": [
    "import pandas as pd\n",
    "import os"
   ]
  },
  {
   "cell_type": "code",
   "execution_count": 5,
   "id": "2a2244a3",
   "metadata": {},
   "outputs": [],
   "source": [
    "os.chdir(\"/home/ptruong/git/PEP/data/UniProt\")"
   ]
  },
  {
   "cell_type": "code",
   "execution_count": 7,
   "id": "fdc80ad9",
   "metadata": {},
   "outputs": [],
   "source": [
    "psm = pd.read_csv(\"concatenated_ALL_extra_PSM_full_export\", sep = \",\")"
   ]
  },
  {
   "cell_type": "code",
   "execution_count": 9,
   "id": "1314f6ea",
   "metadata": {},
   "outputs": [
    {
     "data": {
      "text/plain": [
       "Index(['PSMId', 'SpectrumTitle', 'SpectrumFilename', 'Proteins', 'Position',\n",
       "       'Sequence', 'SequenceWithMods', 'measured_mz', 'measured_rt',\n",
       "       'peptide_type', 'Decoy', 'predicted_rt', 'engine_score', 'rt_apex',\n",
       "       'mz_error', 'pep', 'delta_pep', 'ion_fraction', 'peptide_length',\n",
       "       'charge_2', 'charge_3', 'charge_4', 'isotope_0', 'isotope_1',\n",
       "       'isotope_2', 'isotope_3', 'isotope_4', 'unspecific', 'enzymatic_N',\n",
       "       'enzymatic_C', 'enzymatic', 'rt_apex_dist', 'rt_Abs_error',\n",
       "       'rt_Square_error', 'rt_Log_error', 'matched_peaks', 'spectra_log',\n",
       "       'spectra_cos_similarity', 'spectra_angular_similarity',\n",
       "       'spectra_cross_entropy', 'b_ion_coverage', 'b_ion_matched_peaks',\n",
       "       'b_ion_spectra_log', 'b_ion_spectra_cos_similarity',\n",
       "       'b_ion_spectra_angular_similarity', 'b_ion_spectra_cross_entropy',\n",
       "       'y_ion_coverage', 'y_ion_matched_peaks', 'y_ion_spectra_log',\n",
       "       'y_ion_spectra_cos_similarity', 'y_ion_spectra_angular_similarity',\n",
       "       'y_ion_spectra_cross_entropy', 'score', 'q-value',\n",
       "       'posterior_error_prob'],\n",
       "      dtype='object')"
      ]
     },
     "execution_count": 9,
     "metadata": {},
     "output_type": "execute_result"
    }
   ],
   "source": [
    "psm.columns"
   ]
  },
  {
   "cell_type": "code",
   "execution_count": null,
   "id": "fc6ac858",
   "metadata": {},
   "outputs": [],
   "source": []
  },
  {
   "cell_type": "code",
   "execution_count": null,
   "id": "134f50d6",
   "metadata": {},
   "outputs": [],
   "source": []
  }
 ],
 "metadata": {
  "kernelspec": {
   "display_name": "Python [conda env:py37]",
   "language": "python",
   "name": "conda-env-py37-py"
  },
  "language_info": {
   "codemirror_mode": {
    "name": "ipython",
    "version": 3
   },
   "file_extension": ".py",
   "mimetype": "text/x-python",
   "name": "python",
   "nbconvert_exporter": "python",
   "pygments_lexer": "ipython3",
   "version": "3.7.7"
  }
 },
 "nbformat": 4,
 "nbformat_minor": 5
}
