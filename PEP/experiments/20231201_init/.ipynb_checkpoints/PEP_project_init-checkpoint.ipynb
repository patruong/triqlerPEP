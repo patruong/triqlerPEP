{
 "cells": [
  {
   "cell_type": "markdown",
   "id": "35effb44",
   "metadata": {},
   "source": [
    "# Goal\n",
    "Can we replace Triqlers qvality module and \"score\" input to FDR input.\n",
    "\n",
    "1) Aggregate PSM-level PEP to Q-value\n",
    "2) Aggregate PEP-level PEP to Q-value\n",
    "3) Take PSM-level Q-value\n",
    "4) Take Peptide-level Q-value\n",
    "5) Use -log10(Q-value) as score (PSM-level)\n",
    "6) Use -log10(Q-value) as score (Peptide-level)\n",
    "\n",
    "\n",
    "Run triqler with 1-6 and check if results differ and explain the differing results. \n",
    "\n",
    "Make some plots and send to Lukas.\n",
    "\n",
    "1) q-value vs q-value from pep plot\n",
    "2) some more rankign plots\n"
   ]
  },
  {
   "cell_type": "code",
   "execution_count": 22,
   "id": "a71eddb5",
   "metadata": {},
   "outputs": [],
   "source": [
    "import pandas as pd\n",
    "import seaborn as sns\n",
    "import os"
   ]
  },
  {
   "cell_type": "code",
   "execution_count": 3,
   "id": "2a2244a3",
   "metadata": {},
   "outputs": [],
   "source": [
    "os.chdir(\"/home/ptruong/git/PEP/data/UniProt\")"
   ]
  },
  {
   "cell_type": "code",
   "execution_count": 10,
   "id": "fdc80ad9",
   "metadata": {},
   "outputs": [],
   "source": [
    "#df = pd.read_csv(\"concatenated_ALL_extra_PSM_full_export\", sep = \",\")\n",
    "df = pd.read_csv(\"concatenated_ALL_extra_Peptide_full_export\", sep = \",\")"
   ]
  },
  {
   "cell_type": "code",
   "execution_count": 11,
   "id": "1314f6ea",
   "metadata": {},
   "outputs": [
    {
     "data": {
      "text/plain": [
       "Index(['PSMId', 'SpectrumTitle', 'SpectrumFilename', 'Proteins', 'Position',\n",
       "       'Sequence', 'SequenceWithMods', 'measured_mz', 'measured_rt',\n",
       "       'peptide_type', 'Decoy', 'predicted_rt', 'engine_score', 'rt_apex',\n",
       "       'mz_error', 'pep', 'delta_pep', 'ion_fraction', 'peptide_length',\n",
       "       'charge_2', 'charge_3', 'charge_4', 'isotope_0', 'isotope_1',\n",
       "       'isotope_2', 'isotope_3', 'isotope_4', 'unspecific', 'enzymatic_N',\n",
       "       'enzymatic_C', 'enzymatic', 'rt_apex_dist', 'rt_Abs_error',\n",
       "       'rt_Square_error', 'rt_Log_error', 'matched_peaks', 'spectra_log',\n",
       "       'spectra_cos_similarity', 'spectra_angular_similarity',\n",
       "       'spectra_cross_entropy', 'b_ion_coverage', 'b_ion_matched_peaks',\n",
       "       'b_ion_spectra_log', 'b_ion_spectra_cos_similarity',\n",
       "       'b_ion_spectra_angular_similarity', 'b_ion_spectra_cross_entropy',\n",
       "       'y_ion_coverage', 'y_ion_matched_peaks', 'y_ion_spectra_log',\n",
       "       'y_ion_spectra_cos_similarity', 'y_ion_spectra_angular_similarity',\n",
       "       'y_ion_spectra_cross_entropy', 'score', 'q-value',\n",
       "       'posterior_error_prob'],\n",
       "      dtype='object')"
      ]
     },
     "execution_count": 11,
     "metadata": {},
     "output_type": "execute_result"
    }
   ],
   "source": [
    "df.columns"
   ]
  },
  {
   "cell_type": "code",
   "execution_count": 12,
   "id": "fc6ac858",
   "metadata": {},
   "outputs": [],
   "source": [
    "# Calculate q-value from PEP\n",
    "def pep_to_qvalue(df, pep = \"pep\", qval_col = \"qval_from_pep\"):\n",
    "    df = df.sort_values(by = pep)\n",
    "    PEP = df[pep].reset_index().drop(\"index\", axis = 1).reset_index()\n",
    "    PEP_sum = PEP.cumsum()\n",
    "    qval = PEP_sum[pep] / (PEP_sum.index+1)\n",
    "    df[qval_col] = qval\n",
    "    return df"
   ]
  },
  {
   "cell_type": "code",
   "execution_count": 15,
   "id": "134f50d6",
   "metadata": {},
   "outputs": [],
   "source": [
    "df = pep_to_qvalue(df, \"pep\")"
   ]
  },
  {
   "cell_type": "code",
   "execution_count": 18,
   "id": "15bfaceb",
   "metadata": {},
   "outputs": [
    {
     "data": {
      "text/plain": [
       "299929    0.000476\n",
       "170192    0.000246\n",
       "670724    0.000861\n",
       "170195    0.000487\n",
       "170196    0.000249\n",
       "            ...   \n",
       "275012    0.516662\n",
       "275011    0.573116\n",
       "275010    0.494870\n",
       "275029    0.510007\n",
       "458480    0.198402\n",
       "Name: q-value, Length: 916961, dtype: float64"
      ]
     },
     "execution_count": 18,
     "metadata": {},
     "output_type": "execute_result"
    }
   ],
   "source": [
    "df[\"q-value\"]"
   ]
  },
  {
   "cell_type": "code",
   "execution_count": 19,
   "id": "2af294db",
   "metadata": {},
   "outputs": [
    {
     "data": {
      "text/plain": [
       "Index(['PSMId', 'SpectrumTitle', 'SpectrumFilename', 'Proteins', 'Position',\n",
       "       'Sequence', 'SequenceWithMods', 'measured_mz', 'measured_rt',\n",
       "       'peptide_type', 'Decoy', 'predicted_rt', 'engine_score', 'rt_apex',\n",
       "       'mz_error', 'pep', 'delta_pep', 'ion_fraction', 'peptide_length',\n",
       "       'charge_2', 'charge_3', 'charge_4', 'isotope_0', 'isotope_1',\n",
       "       'isotope_2', 'isotope_3', 'isotope_4', 'unspecific', 'enzymatic_N',\n",
       "       'enzymatic_C', 'enzymatic', 'rt_apex_dist', 'rt_Abs_error',\n",
       "       'rt_Square_error', 'rt_Log_error', 'matched_peaks', 'spectra_log',\n",
       "       'spectra_cos_similarity', 'spectra_angular_similarity',\n",
       "       'spectra_cross_entropy', 'b_ion_coverage', 'b_ion_matched_peaks',\n",
       "       'b_ion_spectra_log', 'b_ion_spectra_cos_similarity',\n",
       "       'b_ion_spectra_angular_similarity', 'b_ion_spectra_cross_entropy',\n",
       "       'y_ion_coverage', 'y_ion_matched_peaks', 'y_ion_spectra_log',\n",
       "       'y_ion_spectra_cos_similarity', 'y_ion_spectra_angular_similarity',\n",
       "       'y_ion_spectra_cross_entropy', 'score', 'q-value',\n",
       "       'posterior_error_prob', 'qval_from_pep'],\n",
       "      dtype='object')"
      ]
     },
     "execution_count": 19,
     "metadata": {},
     "output_type": "execute_result"
    }
   ],
   "source": [
    "df.columns"
   ]
  },
  {
   "cell_type": "code",
   "execution_count": 25,
   "id": "b5845e68",
   "metadata": {},
   "outputs": [
    {
     "data": {
      "text/plain": [
       "299929    1.135030\n",
       "170192    1.714450\n",
       "670724    0.975706\n",
       "170195    1.128860\n",
       "170196    1.471690\n",
       "            ...   \n",
       "275012   -1.314230\n",
       "275011   -1.723520\n",
       "275010   -1.218180\n",
       "275029   -1.283300\n",
       "458480   -0.507247\n",
       "Name: score, Length: 916961, dtype: float64"
      ]
     },
     "execution_count": 25,
     "metadata": {},
     "output_type": "execute_result"
    }
   ],
   "source": [
    "df.score"
   ]
  },
  {
   "cell_type": "code",
   "execution_count": 26,
   "id": "b712ad8f",
   "metadata": {},
   "outputs": [
    {
     "data": {
      "text/html": [
       "<div>\n",
       "<style scoped>\n",
       "    .dataframe tbody tr th:only-of-type {\n",
       "        vertical-align: middle;\n",
       "    }\n",
       "\n",
       "    .dataframe tbody tr th {\n",
       "        vertical-align: top;\n",
       "    }\n",
       "\n",
       "    .dataframe thead th {\n",
       "        text-align: right;\n",
       "    }\n",
       "</style>\n",
       "<table border=\"1\" class=\"dataframe\">\n",
       "  <thead>\n",
       "    <tr style=\"text-align: right;\">\n",
       "      <th></th>\n",
       "      <th>score</th>\n",
       "      <th>q-value</th>\n",
       "    </tr>\n",
       "  </thead>\n",
       "  <tbody>\n",
       "    <tr>\n",
       "      <th>299929</th>\n",
       "      <td>1.135030</td>\n",
       "      <td>0.000476</td>\n",
       "    </tr>\n",
       "    <tr>\n",
       "      <th>170192</th>\n",
       "      <td>1.714450</td>\n",
       "      <td>0.000246</td>\n",
       "    </tr>\n",
       "    <tr>\n",
       "      <th>670724</th>\n",
       "      <td>0.975706</td>\n",
       "      <td>0.000861</td>\n",
       "    </tr>\n",
       "    <tr>\n",
       "      <th>170195</th>\n",
       "      <td>1.128860</td>\n",
       "      <td>0.000487</td>\n",
       "    </tr>\n",
       "    <tr>\n",
       "      <th>170196</th>\n",
       "      <td>1.471690</td>\n",
       "      <td>0.000249</td>\n",
       "    </tr>\n",
       "    <tr>\n",
       "      <th>...</th>\n",
       "      <td>...</td>\n",
       "      <td>...</td>\n",
       "    </tr>\n",
       "    <tr>\n",
       "      <th>275012</th>\n",
       "      <td>-1.314230</td>\n",
       "      <td>0.516662</td>\n",
       "    </tr>\n",
       "    <tr>\n",
       "      <th>275011</th>\n",
       "      <td>-1.723520</td>\n",
       "      <td>0.573116</td>\n",
       "    </tr>\n",
       "    <tr>\n",
       "      <th>275010</th>\n",
       "      <td>-1.218180</td>\n",
       "      <td>0.494870</td>\n",
       "    </tr>\n",
       "    <tr>\n",
       "      <th>275029</th>\n",
       "      <td>-1.283300</td>\n",
       "      <td>0.510007</td>\n",
       "    </tr>\n",
       "    <tr>\n",
       "      <th>458480</th>\n",
       "      <td>-0.507247</td>\n",
       "      <td>0.198402</td>\n",
       "    </tr>\n",
       "  </tbody>\n",
       "</table>\n",
       "<p>916961 rows × 2 columns</p>\n",
       "</div>"
      ],
      "text/plain": [
       "           score   q-value\n",
       "299929  1.135030  0.000476\n",
       "170192  1.714450  0.000246\n",
       "670724  0.975706  0.000861\n",
       "170195  1.128860  0.000487\n",
       "170196  1.471690  0.000249\n",
       "...          ...       ...\n",
       "275012 -1.314230  0.516662\n",
       "275011 -1.723520  0.573116\n",
       "275010 -1.218180  0.494870\n",
       "275029 -1.283300  0.510007\n",
       "458480 -0.507247  0.198402\n",
       "\n",
       "[916961 rows x 2 columns]"
      ]
     },
     "execution_count": 26,
     "metadata": {},
     "output_type": "execute_result"
    }
   ],
   "source": [
    "df[[\"score\",\"q-value\"]]"
   ]
  }
 ],
 "metadata": {
  "kernelspec": {
   "display_name": "Python [conda env:py37]",
   "language": "python",
   "name": "conda-env-py37-py"
  },
  "language_info": {
   "codemirror_mode": {
    "name": "ipython",
    "version": 3
   },
   "file_extension": ".py",
   "mimetype": "text/x-python",
   "name": "python",
   "nbconvert_exporter": "python",
   "pygments_lexer": "ipython3",
   "version": "3.7.7"
  }
 },
 "nbformat": 4,
 "nbformat_minor": 5
}
